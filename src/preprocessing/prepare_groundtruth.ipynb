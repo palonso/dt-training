{
 "cells": [
  {
   "cell_type": "code",
   "execution_count": 53,
   "metadata": {},
   "outputs": [],
   "source": [
    "import os\n",
    "import random\n",
    "\n",
    "import numpy as np\n",
    "import matplotlib.pyplot as plt\n",
    "import pandas as pd\n",
    "from sklearn import preprocessing\n",
    "\n",
    "%matplotlib inline\n",
    "plt.rcParams['figure.dpi'] = 120"
   ]
  },
  {
   "cell_type": "code",
   "execution_count": 2,
   "metadata": {},
   "outputs": [],
   "source": [
    "n_ids = 20000\n",
    "ids_filename = '../out/ids_20k'\n",
    "dt_base = '/mnt/projects/discotube/discotube-2020-09/'\n",
    "\n",
    "metadata_file = '/scratch/palonso/data/discotube/metadata/discogs_20200901_releases.json.clean.youtube'\n",
    "log01 = os.path.join(dt_base, 'discogs_20200901_releases.json.clean.youtube.ids.random.01.log')"
   ]
  },
  {
   "cell_type": "code",
   "execution_count": 3,
   "metadata": {},
   "outputs": [],
   "source": [
    "metadata = pd.read_json(metadata_file, lines=True).set_index(0)"
   ]
  },
  {
   "cell_type": "code",
   "execution_count": 4,
   "metadata": {},
   "outputs": [
    {
     "name": "stdout",
     "output_type": "stream",
     "text": [
      "<class 'pandas.core.frame.DataFrame'>\n",
      "Index: 5095522 entries, MpmbntGDyNE to B8nSNrCDBjM\n",
      "Data columns (total 1 columns):\n",
      " #   Column  Dtype \n",
      "---  ------  ----- \n",
      " 0   1       object\n",
      "dtypes: object(1)\n",
      "memory usage: 77.8+ MB\n"
     ]
    }
   ],
   "source": [
    "metadata.info()"
   ]
  },
  {
   "cell_type": "code",
   "execution_count": 5,
   "metadata": {},
   "outputs": [
    {
     "data": {
      "text/html": [
       "<div>\n",
       "<style scoped>\n",
       "    .dataframe tbody tr th:only-of-type {\n",
       "        vertical-align: middle;\n",
       "    }\n",
       "\n",
       "    .dataframe tbody tr th {\n",
       "        vertical-align: top;\n",
       "    }\n",
       "\n",
       "    .dataframe thead th {\n",
       "        text-align: right;\n",
       "    }\n",
       "</style>\n",
       "<table border=\"1\" class=\"dataframe\">\n",
       "  <thead>\n",
       "    <tr style=\"text-align: right;\">\n",
       "      <th></th>\n",
       "      <th>1</th>\n",
       "    </tr>\n",
       "    <tr>\n",
       "      <th>0</th>\n",
       "      <th></th>\n",
       "    </tr>\n",
       "  </thead>\n",
       "  <tbody>\n",
       "    <tr>\n",
       "      <th>MpmbntGDyNE</th>\n",
       "      <td>{'1': {'genres': ['Electronic'], 'styles': ['E...</td>\n",
       "    </tr>\n",
       "    <tr>\n",
       "      <th>Cawyll0pOI4</th>\n",
       "      <td>{'1': {'genres': ['Electronic'], 'styles': ['E...</td>\n",
       "    </tr>\n",
       "    <tr>\n",
       "      <th>XExCZfMCXdo</th>\n",
       "      <td>{'1': {'genres': ['Electronic'], 'styles': ['E...</td>\n",
       "    </tr>\n",
       "    <tr>\n",
       "      <th>WDZqiENap_U</th>\n",
       "      <td>{'1': {'genres': ['Electronic'], 'styles': ['E...</td>\n",
       "    </tr>\n",
       "    <tr>\n",
       "      <th>EBBHR3EMN50</th>\n",
       "      <td>{'1': {'genres': ['Electronic'], 'styles': ['E...</td>\n",
       "    </tr>\n",
       "  </tbody>\n",
       "</table>\n",
       "</div>"
      ],
      "text/plain": [
       "                                                             1\n",
       "0                                                             \n",
       "MpmbntGDyNE  {'1': {'genres': ['Electronic'], 'styles': ['E...\n",
       "Cawyll0pOI4  {'1': {'genres': ['Electronic'], 'styles': ['E...\n",
       "XExCZfMCXdo  {'1': {'genres': ['Electronic'], 'styles': ['E...\n",
       "WDZqiENap_U  {'1': {'genres': ['Electronic'], 'styles': ['E...\n",
       "EBBHR3EMN50  {'1': {'genres': ['Electronic'], 'styles': ['E..."
      ]
     },
     "execution_count": 5,
     "metadata": {},
     "output_type": "execute_result"
    }
   ],
   "source": [
    "metadata.head()"
   ]
  },
  {
   "cell_type": "code",
   "execution_count": 46,
   "metadata": {},
   "outputs": [
    {
     "data": {
      "text/plain": [
       "{'1612869': {'genres': ['Hip Hop'],\n",
       "  'styles': [],\n",
       "  'released': 1998,\n",
       "  'country': 'France',\n",
       "  'artists': ['194'],\n",
       "  'labels': ['Reel Up']},\n",
       " '1650060': {'genres': ['Hip Hop'],\n",
       "  'styles': [],\n",
       "  'released': 1998,\n",
       "  'country': 'France',\n",
       "  'artists': ['194'],\n",
       "  'labels': ['Reel Up']},\n",
       " '4814182': {'genres': ['Hip Hop'],\n",
       "  'styles': [],\n",
       "  'released': 1998,\n",
       "  'country': 'France',\n",
       "  'artists': ['194'],\n",
       "  'labels': ['Reel Up']},\n",
       " '13511860': {'genres': ['Hip Hop'],\n",
       "  'styles': [],\n",
       "  'released': 1998,\n",
       "  'country': 'France',\n",
       "  'artists': ['194'],\n",
       "  'labels': ['Reel Up']}}"
      ]
     },
     "execution_count": 46,
     "metadata": {},
     "output_type": "execute_result"
    }
   ],
   "source": [
    "metadata.sample()[1][0]"
   ]
  },
  {
   "cell_type": "markdown",
   "metadata": {},
   "source": [
    "Get 20K tracks among the processed ones for prototyping"
   ]
  },
  {
   "cell_type": "code",
   "execution_count": 23,
   "metadata": {},
   "outputs": [
    {
     "name": "stdout",
     "output_type": "stream",
     "text": [
      "grep: write error\n",
      "cat: write error: Broken pipe\n"
     ]
    }
   ],
   "source": [
    "# !cat {log01} |grep 'downloaded\\|file\\ exists' | head -n {n_ids} | cut -f 1 > {ids_filename}\n",
    "!find /scratch/palonso/data/discotube-specs/ -type f | head -n 5 | cut -d '/' -f 7"
   ]
  },
  {
   "cell_type": "code",
   "execution_count": 7,
   "metadata": {},
   "outputs": [],
   "source": [
    "with open (ids_filename, 'r') as f:\n",
    "    ids = [l.rstrip() for l in f.readlines()]"
   ]
  },
  {
   "cell_type": "code",
   "execution_count": 8,
   "metadata": {},
   "outputs": [
    {
     "name": "stdout",
     "output_type": "stream",
     "text": [
      "{'Jazz', 'Swing'}\n"
     ]
    }
   ],
   "source": [
    "def get_tags(entry):\n",
    "    tags = set()\n",
    "    for v in entry.values():\n",
    "        tags.update(v['genres'])\n",
    "        for s in v['styles']:\n",
    "            tags.update(s.split('---'))\n",
    "\n",
    "    return tags \n",
    "\n",
    "print(get_tags(metadata.sample()[1][0]))"
   ]
  },
  {
   "cell_type": "code",
   "execution_count": 9,
   "metadata": {},
   "outputs": [],
   "source": [
    "tag_dict = {id: get_tags(metadata.loc[id][1]) for id in ids}"
   ]
  },
  {
   "cell_type": "code",
   "execution_count": 10,
   "metadata": {},
   "outputs": [],
   "source": [
    "import itertools\n",
    "\n",
    "unique_tags = list(itertools.chain.from_iterable([list(v) for v in tag_dict.values()]))"
   ]
  },
  {
   "cell_type": "code",
   "execution_count": 11,
   "metadata": {},
   "outputs": [
    {
     "data": {
      "image/png": "[encoded data removed]",
      "text/plain": [
       "<Figure size 1440x216 with 1 Axes>"
      ]
     },
     "metadata": {
      "needs_background": "light"
     },
     "output_type": "display_data"
    }
   ],
   "source": [
    "from collections import Counter\n",
    "\n",
    "n_tags = 200\n",
    "\n",
    "counts = Counter(unique_tags)\n",
    "labels, values = zip(*(counts.most_common(n=n_tags)))\n",
    "\n",
    "indexes = np.arange(len(labels))\n",
    "width = 1\n",
    "plt.figure(figsize=[20, 3])\n",
    "plt.bar(indexes, values, width)\n",
    "plt.xticks(indexes + width * 0.5, labels, rotation='vertical', size=7)\n",
    "plt.show()"
   ]
  },
  {
   "cell_type": "code",
   "execution_count": 12,
   "metadata": {},
   "outputs": [
    {
     "name": "stdout",
     "output_type": "stream",
     "text": [
      "[('Musique Concrète', 39), ('Pop Punk', 38), ('Trap', 38), ('Bop', 38), ('Sludge Metal', 38), ('Bolero', 38), ('Lounge', 37), ('Southern Rock', 37), ('Ethereal', 37), ('Bluegrass', 36)]\n"
     ]
    }
   ],
   "source": [
    "print(list(zip(labels[-10:], values[-10:])))"
   ]
  },
  {
   "cell_type": "markdown",
   "metadata": {},
   "source": [
    "Below the top 200 tags, the tags have very few examples\n",
    "\n",
    "Filter it"
   ]
  },
  {
   "cell_type": "code",
   "execution_count": 13,
   "metadata": {},
   "outputs": [],
   "source": [
    "labels_t200 = set(labels)\n",
    "filtered_tag_dict = dict()\n",
    "\n",
    "for k, v in tag_dict.items():\n",
    "    new_v = v.intersection(labels_t200)\n",
    "    if new_v:\n",
    "        filtered_tag_dict[k] = new_v"
   ]
  },
  {
   "cell_type": "code",
   "execution_count": 14,
   "metadata": {},
   "outputs": [
    {
     "data": {
      "text/plain": [
       "19998"
      ]
     },
     "execution_count": 14,
     "metadata": {},
     "output_type": "execute_result"
    }
   ],
   "source": [
    "len(filtered_tag_dict)"
   ]
  },
  {
   "cell_type": "markdown",
   "metadata": {},
   "source": [
    "Only 2 files lost"
   ]
  },
  {
   "cell_type": "code",
   "execution_count": 15,
   "metadata": {},
   "outputs": [
    {
     "name": "stdout",
     "output_type": "stream",
     "text": [
      "200\n"
     ]
    }
   ],
   "source": [
    "unique_tags = []\n",
    "for v in filtered_tag_dict.values():\n",
    "    unique_tags += list(v)\n",
    "    \n",
    "print(len(set(unique_tags)))"
   ]
  },
  {
   "cell_type": "code",
   "execution_count": 16,
   "metadata": {},
   "outputs": [
    {
     "data": {
      "text/plain": [
       "array(['AOR', 'Abstract', 'Acid', 'Acid House', 'Acid Jazz', 'Acoustic',\n",
       "       'African', 'Afrobeat', 'Alternative Rock', 'Ambient', 'Art Rock',\n",
       "       'Avant-garde Jazz', 'Avantgarde', 'Ballad', 'Beat', 'Big Band',\n",
       "       'Big Beat', 'Black Metal', 'Bluegrass', 'Blues', 'Blues Rock',\n",
       "       'Bolero', 'Boogie', 'Boom Bap', 'Bop', 'Bossa Nova', 'Bossanova',\n",
       "       'Breakbeat', 'Breakcore', 'Breaks', 'Broken Beat', 'Chanson',\n",
       "       \"Children's\", 'Classic Rock', 'Classical', 'Conscious',\n",
       "       'Contemporary', 'Contemporary Jazz', 'Contemporary R&B',\n",
       "       'Cool Jazz', 'Country', 'Country Rock', 'Cumbia', 'Dance-pop',\n",
       "       'Dancehall', 'Dark Ambient', 'Darkwave', 'Death Metal',\n",
       "       'Deep House', 'Deep Techno', 'Disco', 'Doo Wop', 'Doom Metal',\n",
       "       'Downtempo', 'Drone', 'Drum n Bass', 'Dub', 'Dub Techno',\n",
       "       'Dubstep', 'EBM', 'Easy Listening', 'Electro', 'Electro House',\n",
       "       'Electronic', 'Emo', 'Ethereal', 'Euro House', 'Eurodance',\n",
       "       'Europop', 'Experimental', 'Folk', 'Folk Rock',\n",
       "       'Folk, World, & Country', 'Free Improvisation', 'Free Jazz',\n",
       "       'Freestyle', 'Funk', 'Funk / Soul', 'Fusion', 'Future Jazz',\n",
       "       'G-Funk', 'Gabber', 'Gangsta', 'Garage House', 'Garage Rock',\n",
       "       'Glam', 'Glitch', 'Goa Trance', 'Gospel', 'Goth Rock', 'Grime',\n",
       "       'Grindcore', 'Grunge', 'Happy Hardcore', 'Hard House', 'Hard Rock',\n",
       "       'Hard Trance', 'Hardcore', 'Hardcore Hip-Hop', 'Hardstyle',\n",
       "       'Heavy Metal', 'Hi NRG', 'Hip Hop', 'Hip-House', 'House', 'IDM',\n",
       "       'Indie Pop', 'Indie Rock', 'Industrial', 'Instrumental',\n",
       "       'Italo-Disco', 'Italodance', 'Jazz', 'Jazz-Funk', 'Jazz-Rock',\n",
       "       'Jazzy Hip-Hop', 'Jungle', 'Krautrock', 'Latin', 'Latin Jazz',\n",
       "       'Leftfield', 'Lo-Fi', 'Lounge', 'Lovers Rock', 'MPB', 'Makina',\n",
       "       'Minimal', 'Minimal Techno', 'Mod', 'Modern Classical',\n",
       "       'Musique Concrète', 'Neofolk', 'New Age', 'New Wave', 'Noise',\n",
       "       'Non-Music', 'Novelty', 'Oi', 'Parody', 'Pop', 'Pop Punk',\n",
       "       'Pop Rap', 'Pop Rock', 'Post Bop', 'Post Rock', 'Post-Punk',\n",
       "       'Power Metal', 'Power Pop', 'Prog Rock', 'Progressive House',\n",
       "       'Progressive Metal', 'Progressive Trance', 'Psy-Trance',\n",
       "       'Psychedelic', 'Psychedelic Rock', 'Punk', 'Reggae',\n",
       "       'Rhythm & Blues', 'RnB/Swing', 'Rock', 'Rock & Roll', 'Rockabilly',\n",
       "       'Rocksteady', 'Roots Reggae', 'Salsa', 'Samba', 'Schlager',\n",
       "       'Score', 'Shoegaze', 'Ska', 'Sludge Metal', 'Smooth Jazz',\n",
       "       'Soft Rock', 'Soul', 'Soul-Jazz', 'Soundtrack', 'Southern Rock',\n",
       "       'Space Rock', 'Speed Metal', 'Speedcore', 'Spoken Word',\n",
       "       'Stage & Screen', 'Stoner Rock', 'Surf', 'Swing', 'Symphonic Rock',\n",
       "       'Synth-pop', 'Synthwave', 'Tech House', 'Techno', 'Theme',\n",
       "       'Thrash', 'Thug Rap', 'Trance', 'Trap', 'Tribal', 'Tribal House',\n",
       "       'Trip Hop', 'UK Garage', 'Vocal'], dtype=object)"
      ]
     },
     "execution_count": 16,
     "metadata": {},
     "output_type": "execute_result"
    }
   ],
   "source": [
    "# Enconde tags\n",
    "lb = preprocessing.MultiLabelBinarizer()\n",
    "lb.fit([list(labels_t200)])\n",
    "\n",
    "lb.classes_"
   ]
  },
  {
   "cell_type": "code",
   "execution_count": 17,
   "metadata": {},
   "outputs": [
    {
     "data": {
      "text/plain": [
       "array([[1, 0, 0, 0, 0, 0, 0, 0, 0, 0, 0, 0, 0, 0, 0, 0, 0, 0, 0, 0, 0, 0,\n",
       "        0, 0, 0, 0, 0, 0, 0, 0, 0, 0, 0, 0, 0, 0, 0, 0, 0, 0, 0, 0, 0, 0,\n",
       "        0, 0, 0, 0, 0, 0, 0, 0, 0, 0, 0, 0, 0, 0, 0, 0, 0, 0, 0, 0, 0, 0,\n",
       "        0, 0, 0, 0, 0, 0, 0, 0, 0, 0, 0, 0, 0, 0, 0, 0, 0, 0, 0, 0, 0, 0,\n",
       "        0, 0, 0, 0, 0, 0, 0, 0, 0, 0, 0, 0, 0, 0, 0, 0, 0, 0, 0, 0, 0, 0,\n",
       "        0, 0, 0, 0, 0, 0, 0, 0, 0, 0, 0, 0, 0, 0, 0, 0, 0, 0, 0, 0, 0, 0,\n",
       "        0, 0, 0, 0, 0, 0, 0, 0, 0, 0, 0, 0, 0, 0, 0, 0, 0, 0, 0, 0, 0, 0,\n",
       "        0, 0, 0, 0, 0, 0, 0, 0, 0, 0, 0, 0, 0, 0, 0, 0, 0, 0, 0, 0, 0, 0,\n",
       "        0, 0, 0, 0, 0, 0, 0, 0, 0, 0, 0, 0, 0, 0, 0, 0, 0, 0, 0, 0, 0, 0,\n",
       "        0, 0],\n",
       "       [1, 0, 0, 0, 0, 0, 0, 0, 0, 0, 0, 0, 0, 0, 0, 0, 0, 0, 0, 0, 0, 0,\n",
       "        0, 0, 0, 0, 0, 0, 0, 0, 0, 0, 0, 0, 0, 0, 0, 0, 0, 0, 0, 0, 0, 0,\n",
       "        0, 0, 0, 0, 0, 0, 0, 0, 0, 0, 0, 0, 0, 0, 0, 0, 0, 0, 0, 0, 0, 0,\n",
       "        0, 0, 0, 0, 0, 0, 0, 0, 0, 0, 0, 0, 0, 0, 0, 0, 0, 0, 0, 0, 0, 0,\n",
       "        0, 0, 0, 0, 0, 0, 0, 0, 0, 0, 0, 0, 0, 0, 0, 0, 0, 0, 0, 0, 0, 0,\n",
       "        0, 0, 0, 0, 0, 0, 0, 0, 0, 0, 0, 0, 0, 0, 0, 0, 0, 0, 0, 0, 0, 0,\n",
       "        0, 0, 0, 0, 0, 0, 0, 0, 0, 0, 0, 0, 0, 0, 0, 0, 0, 0, 0, 0, 0, 0,\n",
       "        0, 0, 0, 0, 0, 1, 0, 0, 0, 0, 0, 0, 0, 0, 0, 0, 0, 0, 0, 0, 0, 0,\n",
       "        0, 0, 0, 0, 0, 0, 0, 0, 0, 0, 0, 0, 0, 0, 0, 0, 0, 0, 0, 0, 0, 0,\n",
       "        0, 0]])"
      ]
     },
     "execution_count": 17,
     "metadata": {},
     "output_type": "execute_result"
    }
   ],
   "source": [
    "lb.transform([['AOR'], ['AOR', 'Rock']])"
   ]
  },
  {
   "cell_type": "code",
   "execution_count": 18,
   "metadata": {},
   "outputs": [
    {
     "data": {
      "text/plain": [
       "['../out/encoder_20k.joblib']"
      ]
     },
     "execution_count": 18,
     "metadata": {},
     "output_type": "execute_result"
    }
   ],
   "source": [
    "import joblib\n",
    "\n",
    "joblib.dump(lb, '../out/encoder_20k.joblib')"
   ]
  },
  {
   "cell_type": "code",
   "execution_count": 19,
   "metadata": {},
   "outputs": [],
   "source": [
    "def gt_key(key):\n",
    "    return '{}/{}.mp4.mmap'.format(key[:2], key)"
   ]
  },
  {
   "cell_type": "code",
   "execution_count": 21,
   "metadata": {},
   "outputs": [
    {
     "name": "stdout",
     "output_type": "stream",
     "text": [
      "{'1296859'}\n"
     ]
    }
   ],
   "source": [
    "def get_artists(entry):\n",
    "    artists = set()\n",
    "    for v in entry.values():\n",
    "        artists.update(v['artists'])\n",
    "    return artists \n",
    "\n",
    "print(get_artists(metadata.sample()[1][0]))"
   ]
  },
  {
   "cell_type": "code",
   "execution_count": 49,
   "metadata": {},
   "outputs": [],
   "source": [
    "artist_map = dict()\n",
    "single_artist_tracks = []\n",
    "for id in ids:\n",
    "    artists = list(get_artists(metadata.loc[id][1]))\n",
    "    \n",
    "    if len(artists) == 1:\n",
    "        single_artist_tracks.append(id)\n",
    "    for artist in artists:\n",
    "        artist_map[artist] = artist_map.get(artist, []) + [id]\n",
    "        \n",
    "single_artist_tracks = set(single_artist_tracks)"
   ]
  },
  {
   "cell_type": "code",
   "execution_count": 48,
   "metadata": {},
   "outputs": [
    {
     "name": "stdout",
     "output_type": "stream",
     "text": [
      "17202\n"
     ]
    }
   ],
   "source": [
    "print(len(single_artist_tracks))"
   ]
  },
  {
   "cell_type": "code",
   "execution_count": 60,
   "metadata": {},
   "outputs": [],
   "source": [
    "val_tracks = []\n",
    "for k, v in artist_map.items():\n",
    "    if len(v) == 1:\n",
    "        if v[0] in single_artist_tracks:\n",
    "            val_tracks.append(v[0])"
   ]
  },
  {
   "cell_type": "code",
   "execution_count": 61,
   "metadata": {},
   "outputs": [
    {
     "name": "stdout",
     "output_type": "stream",
     "text": [
      "13879\n"
     ]
    }
   ],
   "source": [
    "print(len(val_tracks))"
   ]
  },
  {
   "cell_type": "code",
   "execution_count": 62,
   "metadata": {},
   "outputs": [],
   "source": [
    "val_size = 3000\n",
    "\n",
    "random.shuffle(val_tracks)\n",
    "val_tracks = val_tracks[:val_size]\n",
    "\n",
    "val_tracks = set(val_tracks)"
   ]
  },
  {
   "cell_type": "code",
   "execution_count": 63,
   "metadata": {},
   "outputs": [],
   "source": [
    "mlb_labels_train = {gt_key(k): lb.transform([list(v)])[0].astype('bool') for k, v in filtered_tag_dict.items() if k not in val_tracks}\n",
    "mlb_labels_val = {gt_key(k): lb.transform([list(v)])[0].astype('bool') for k, v in filtered_tag_dict.items() if k in val_tracks}"
   ]
  },
  {
   "cell_type": "code",
   "execution_count": 68,
   "metadata": {},
   "outputs": [
    {
     "name": "stdout",
     "output_type": "stream",
     "text": [
      "training on 16998 tracks, validating on 3000 tracks\n"
     ]
    }
   ],
   "source": [
    "print('training on {} tracks, validating on {} tracks'.format(len(mlb_labels_train), len(mlb_labels_val)))"
   ]
  },
  {
   "cell_type": "code",
   "execution_count": 69,
   "metadata": {},
   "outputs": [],
   "source": [
    "import pickle\n",
    "\n",
    "pickle_file = '../out/gt_train_20k.pk'\n",
    "pickle.dump(mlb_labels_train, open(pickle_file ,'wb'))\n",
    "\n",
    "pickle_file = '../out/gt_val_20k.pk'\n",
    "pickle.dump(mlb_labels_val, open(pickle_file ,'wb'))"
   ]
  },
  {
   "cell_type": "code",
   "execution_count": 70,
   "metadata": {},
   "outputs": [
    {
     "name": "stdout",
     "output_type": "stream",
     "text": [
      "total 12M\n",
      "-rw-rw-r-- 1 palonso palonso 7,2K pay 10 17:40 encoder_20k.joblib\n",
      "-rw-rw-r-- 1 palonso palonso 5,5M pay 10 11:19 gt_20k.pk\n",
      "-rw-rw-r-- 1 palonso palonso 4,7M pay 10 18:08 gt_train_20k.pk\n",
      "-rw-rw-r-- 1 palonso palonso 841K pay 10 18:08 gt_val_20k.pk\n",
      "-rw-rw-r-- 1 palonso palonso 235K pay 10 09:38 ids_20k\n"
     ]
    }
   ],
   "source": [
    "!ls -lh ../out/"
   ]
  },
  {
   "cell_type": "code",
   "execution_count": null,
   "metadata": {},
   "outputs": [],
   "source": []
  }
 ],
 "metadata": {
  "kernelspec": {
   "display_name": "Python 3",
   "language": "python",
   "name": "python3"
  },
  "language_info": {
   "codemirror_mode": {
    "name": "ipython",
    "version": 3
   },
   "file_extension": ".py",
   "mimetype": "text/x-python",
   "name": "python",
   "nbconvert_exporter": "python",
   "pygments_lexer": "ipython3",
   "version": "3.7.9"
  }
 },
 "nbformat": 4,
 "nbformat_minor": 4
}
